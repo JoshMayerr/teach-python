{
  "cells": [
    {
      "cell_type": "markdown",
      "metadata": {},
      "source": [
        "# **Learn Python in One Sitting**\n",
        "\n",
        "### In this tutorial i'll teach you how to code in Python as we build an AI clone that talks like you, from scratch. uh, that sounds super difficult. dont worry it wont be! we are going to use some beginner techniques and you'll understand it all i promise. \n",
        "\n",
        "This tutorial is meant for people who have never coded before, but are interested in what it even means to \"code\" and what the fuck \"Python\" does. 🐍\n",
        "\n",
        "*By Josh Mayer*"
      ]
    },
    {
      "cell_type": "markdown",
      "metadata": {},
      "source": [
        "## A preview of the future\n",
        "\n",
        "This is the code you are going to write by then end of this adventure. dont get overwhelmed let's just get to it!"
      ]
    },
    {
      "cell_type": "code",
      "execution_count": 401,
      "metadata": {},
      "outputs": [
        {
          "name": "stdout",
          "output_type": "stream",
          "text": [
            "death, The insolence of outrageous fortune, Or to say we have Than fly to be wish'd. To grunt and arrows of office, and sweat under a bare bodkin? Who would bear the mind to be wish'd. To be, that we have Than fly to take arms against a consummation Devoutly\n"
          ]
        }
      ],
      "source": [
        "import random\n",
        "\n",
        "def create_dictionary(corpus):\n",
        "    words = corpus.split()\n",
        "    word_dict = {}\n",
        "    for i in range(len(words)-1):\n",
        "        if words[i] in word_dict:\n",
        "            word_dict[words[i]].append(words[i+1])\n",
        "        else:\n",
        "            word_dict[words[i]] = [words[i+1]]\n",
        "    return word_dict\n",
        "\n",
        "def generate_text(word_dict, length=10):\n",
        "    current_word = random.choice(list(word_dict.keys()))\n",
        "    text = current_word\n",
        "    for _ in range(length-1):\n",
        "        if current_word in word_dict:\n",
        "            next_word = random.choice(word_dict[current_word])\n",
        "            text += \" \" + next_word\n",
        "            current_word = next_word\n",
        "        else:\n",
        "            break\n",
        "    return text\n",
        "\n",
        "corpus = \"\"\"To be, or not to be, that is the question:\n",
        "Whether 'tis nobler in the mind to suffer\n",
        "The slings and arrows of outrageous fortune,\n",
        "Or to take arms against a sea of troubles\n",
        "And by opposing end them. To die—to sleep,\n",
        "No more; and by a sleep to say we end\n",
        "The heart-ache and the thousand natural shocks\n",
        "That flesh is heir to: 'tis a consummation\n",
        "Devoutly to be wish'd. To die, to sleep;\n",
        "To sleep, perchance to dream—ay, there's the rub:\n",
        "For in that sleep of death what dreams may come,\n",
        "When we have shuffled off this mortal coil,\n",
        "Must give us pause—there's the respect\n",
        "That makes calamity of so long life.\n",
        "For who would bear the whips and scorns of time,\n",
        "Th'oppressor's wrong, the proud man's contumely,\n",
        "The pangs of dispriz'd love, the law's delay,\n",
        "The insolence of office, and the spurns\n",
        "That patient merit of th'unworthy takes,\n",
        "When he himself might his quietus make\n",
        "With a bare bodkin? Who would fardels bear,\n",
        "To grunt and sweat under a weary life,\n",
        "But that the dread of something after death,\n",
        "The undiscovere'd country, from whose bourn\n",
        "No traveller returns, puzzles the will,\n",
        "And makes us rather bear those ills we have\n",
        "Than fly to others that we know not of?\n",
        "Thus conscience doth make cowards of us all,\n",
        "And thus the native hue of resolution\n",
        "Is sicklied o'er with the pale cast of thought,\n",
        "And enterprises of great pith and moment\n",
        "With this regard their currents turn awry\n",
        "And lose the name of action.\"\"\"\n",
        "word_dict = create_dictionary(corpus)\n",
        "generated_text = generate_text(word_dict, length=50)\n",
        "print(generated_text)"
      ]
    },
    {
      "cell_type": "markdown",
      "metadata": {},
      "source": [
        "## Outline\n",
        "\n",
        "1. let's get busy (introduction)\n",
        "2. the atomic units of code (variables)\n",
        "3. many variables together (lists)\n",
        "4. putting lines of code together (functions)\n",
        "5. more than line-by-line (loops/program flow)\n",
        "6. lists but cooler (dictionaries)\n",
        "\n",
        "7. putting it all together"
      ]
    },
    {
      "cell_type": "markdown",
      "metadata": {},
      "source": [
        "## How to run code on this website\n",
        "\n",
        "There should be a play button on the top left of every code block. Not this one cuz its text. Once you click that the code will \"run\", meaning the computer will go down line-by-line and execute."
      ]
    },
    {
      "cell_type": "markdown",
      "metadata": {},
      "source": [
        "# **Part 1: let's get busy**\n",
        "\n",
        "### so what does it mean to code?? Coding is simply writing commands to a computer so that it can do things for you. \n",
        "\n",
        "it's really just the same as when you use a calculator and punch in calculations like 39 = 3x + 3. it solves for x for you aka doing something after you gave it a line of code.  \n",
        "\n",
        "but you couldn't just type random gibberish into a calculator. cooler ones the ti-84 had more functionality but the point is the calculator would get mad if the input text didn't follow a certain format.\n",
        "\n",
        "that's exactly what code is! code is like an agreement between you and the computer to speak in a certain way that you both can understand (aka a langauge).\n",
        "\n",
        "this is why you'll see certain specific \"syntax\" that you just sorta have to follow when typing lines of code, or else the poor computer just wont understand you and get frustrated."
      ]
    },
    {
      "cell_type": "markdown",
      "metadata": {},
      "source": [
        "### Your first line of code!!\n",
        "\n",
        "This is exciting, click the play button next to the code block following this text block and see what happens"
      ]
    },
    {
      "cell_type": "code",
      "execution_count": 402,
      "metadata": {},
      "outputs": [
        {
          "data": {
            "text/plain": [
              "2"
            ]
          },
          "execution_count": 402,
          "metadata": {},
          "output_type": "execute_result"
        }
      ],
      "source": [
        "1 + 1"
      ]
    },
    {
      "cell_type": "markdown",
      "metadata": {},
      "source": [
        "nicely done, pretty simple but we have to start with the building blocks before anything else.\n",
        "\n",
        "as you can see, sorta like a calculator. you put in input text, and the computer does something for you."
      ]
    },
    {
      "cell_type": "code",
      "execution_count": 403,
      "metadata": {},
      "outputs": [
        {
          "data": {
            "text/plain": [
              "6454.0"
            ]
          },
          "execution_count": 403,
          "metadata": {},
          "output_type": "execute_result"
        }
      ],
      "source": [
        "922 * 7 + 201.4 / 21 ** 4 // 9"
      ]
    },
    {
      "cell_type": "markdown",
      "metadata": {},
      "source": [
        "slightly more complicated with a bit more python-specific \"syntax\" thrown in the mix. the hardest part about learning to code is avoiding getting lost in syntax and new-looking text inputs. dont try and memorize anything yet, its about getting a feel for how writing code works and how it is executed. there is no reason to completely understand everything.\n",
        "\n",
        "and there you go, welcome to the world of coding. you just did it twice. now lets dive deeper."
      ]
    },
    {
      "cell_type": "markdown",
      "metadata": {},
      "source": [
        "# **Part 2: the atomic units of code**\n",
        "\n",
        "in this section i'll introduce the idea of variables, which is really the same idea of variables you learned in math. naming a value to be saved and used later, aka a variable."
      ]
    },
    {
      "cell_type": "markdown",
      "metadata": {},
      "source": [
        "this is what it looks like to create a variable in python"
      ]
    },
    {
      "cell_type": "code",
      "execution_count": 404,
      "metadata": {},
      "outputs": [],
      "source": [
        "x = 69"
      ]
    },
    {
      "cell_type": "markdown",
      "metadata": {},
      "source": [
        "you can save pretty much anything into a variable."
      ]
    },
    {
      "cell_type": "code",
      "execution_count": 405,
      "metadata": {},
      "outputs": [
        {
          "data": {
            "text/plain": [
              "25816.0"
            ]
          },
          "execution_count": 405,
          "metadata": {},
          "output_type": "execute_result"
        }
      ],
      "source": [
        "joshs_bank_account = 922 * 28 + 201.4 / 21 ** 4 // 123\n",
        "\n",
        "joshs_bank_account"
      ]
    },
    {
      "cell_type": "markdown",
      "metadata": {},
      "source": [
        "just like in math, you can use variables inside of equations. guess what y equals, then run the code."
      ]
    },
    {
      "cell_type": "code",
      "execution_count": 406,
      "metadata": {},
      "outputs": [
        {
          "data": {
            "text/plain": [
              "276"
            ]
          },
          "execution_count": 406,
          "metadata": {},
          "output_type": "execute_result"
        }
      ],
      "source": [
        "y = x + x + (2 * x)\n",
        "\n",
        "y"
      ]
    },
    {
      "cell_type": "code",
      "execution_count": 407,
      "metadata": {},
      "outputs": [
        {
          "data": {
            "text/plain": [
              "277"
            ]
          },
          "execution_count": 407,
          "metadata": {},
          "output_type": "execute_result"
        }
      ],
      "source": [
        "y += 1\n",
        "\n",
        "y"
      ]
    },
    {
      "cell_type": "markdown",
      "metadata": {},
      "source": [
        "time to write code! "
      ]
    },
    {
      "cell_type": "code",
      "execution_count": 408,
      "metadata": {},
      "outputs": [],
      "source": [
        "# TODO: make a new variable z, that equals 10. make sure to click run when your done."
      ]
    },
    {
      "cell_type": "code",
      "execution_count": 409,
      "metadata": {},
      "outputs": [],
      "source": [
        "# TODO: add z to y and run the code. you should get 288!"
      ]
    },
    {
      "cell_type": "markdown",
      "metadata": {},
      "source": [
        "now as you might guess, code is not only one line! you can write multiple lines of code in one block together. when you click run, the computer will execute the lines one by one going from top to bottom.\n",
        "\n",
        "take a look at what happens here"
      ]
    },
    {
      "cell_type": "code",
      "execution_count": 410,
      "metadata": {},
      "outputs": [
        {
          "data": {
            "text/plain": [
              "12"
            ]
          },
          "execution_count": 410,
          "metadata": {},
          "output_type": "execute_result"
        }
      ],
      "source": [
        "x = 1\n",
        "y = 1\n",
        "\n",
        "x = x + 2 # TODO\n",
        "y = y + 2 # TODO\n",
        "\n",
        "z = x * 2\n",
        "\n",
        "x + y + z"
      ]
    },
    {
      "cell_type": "markdown",
      "metadata": {},
      "source": [
        "now change the code above to output 12. hint: edit the 4th and 5th lines."
      ]
    },
    {
      "cell_type": "markdown",
      "metadata": {},
      "source": [
        "## There are more than just numbers\n",
        "\n",
        "so up until now, we've only cared about numbers. but our final project has to do with text we need to be able to work with words. introducing, \"strings\". \n",
        "\n",
        "a string is just the name for when you want to work with words rather than numbers\n",
        "\n",
        "you can store strings into variables in the exact same way as numbers"
      ]
    },
    {
      "cell_type": "code",
      "execution_count": 411,
      "metadata": {},
      "outputs": [],
      "source": [
        "x = 7 # this is a number\n",
        "\n",
        "sport = \"basketball\" # this is a string, its a word wrapped in quotes\n",
        "\n",
        "breakfast = \"i ate 7 pancakes\" # this is a string, notice it contains a number but its within the quotes so its still all a string"
      ]
    },
    {
      "cell_type": "markdown",
      "metadata": {},
      "source": [
        "### Manipulating strings\n",
        "\n",
        "as we build our AI clone, we are going to have to work with strings. this often involves changing them somehow. there are a ton of ways to do it, so the point here is to see what's out there not try and memorize everything"
      ]
    },
    {
      "cell_type": "code",
      "execution_count": 412,
      "metadata": {},
      "outputs": [
        {
          "data": {
            "text/plain": [
              "'Josh Mayer'"
            ]
          },
          "execution_count": 412,
          "metadata": {},
          "output_type": "execute_result"
        }
      ],
      "source": [
        "full_name = \"Josh \" + \"Mayer\"\n",
        "\n",
        "full_name"
      ]
    },
    {
      "cell_type": "code",
      "execution_count": 413,
      "metadata": {},
      "outputs": [],
      "source": [
        "# write code to output your name\n",
        "# TODO"
      ]
    },
    {
      "cell_type": "markdown",
      "metadata": {},
      "source": [
        "#### Slicing strings\n",
        "\n",
        "every string in python has an underlying order to the letters. this is something python just remembers for you. the first letter is a 0 going all the way up with numbers to the last letter.\n",
        "\n",
        "\"b a s k e t b a l l\"  <-- the string\n",
        " 0 1 2 3 4 5 6 7 8 9   <-- its index values"
      ]
    },
    {
      "cell_type": "markdown",
      "metadata": {},
      "source": [
        "so to access a specific letter within a string, you can ask python using that letter's index"
      ]
    },
    {
      "cell_type": "code",
      "execution_count": 414,
      "metadata": {},
      "outputs": [
        {
          "data": {
            "text/plain": [
              "'a'"
            ]
          },
          "execution_count": 414,
          "metadata": {},
          "output_type": "execute_result"
        }
      ],
      "source": [
        "sport = \"basketball\"\n",
        "sport[7]"
      ]
    },
    {
      "cell_type": "code",
      "execution_count": 415,
      "metadata": {},
      "outputs": [],
      "source": [
        "sport = \"basketball\"\n",
        "\n",
        "# write a line to ask for the 3rd letter in sport:\n",
        "# TODO"
      ]
    },
    {
      "cell_type": "markdown",
      "metadata": {},
      "source": [
        "what if i want to get several letters at the same time?\n",
        "\n",
        "you slice.\n",
        "\n",
        "string_name[start : end]\n",
        "\n",
        "this is a similar concept as grabbing one letter, except you grab all the letters from the start all the way up to the end (exluding the last letter)"
      ]
    },
    {
      "cell_type": "code",
      "execution_count": 416,
      "metadata": {},
      "outputs": [
        {
          "data": {
            "text/plain": [
              "'ketba'"
            ]
          },
          "execution_count": 416,
          "metadata": {},
          "output_type": "execute_result"
        }
      ],
      "source": [
        "sport[0:4]\n",
        "sport[3:8]"
      ]
    },
    {
      "cell_type": "code",
      "execution_count": 417,
      "metadata": {},
      "outputs": [
        {
          "data": {
            "text/plain": [
              "'y'"
            ]
          },
          "execution_count": 417,
          "metadata": {},
          "output_type": "execute_result"
        }
      ],
      "source": [
        "sport = \"basketball is my favorite sport\"\n",
        "\n",
        "# write a line to output 'bal':\n",
        "# TODO\n",
        "sport[15]"
      ]
    },
    {
      "cell_type": "markdown",
      "metadata": {},
      "source": [
        "#### Some special string manipulation\n",
        "\n",
        "dont worry if this part doesn't make sense, it's just important to dive into some of these cool ways to quickly edit strings using python built in \"functions\""
      ]
    },
    {
      "cell_type": "code",
      "execution_count": 418,
      "metadata": {},
      "outputs": [
        {
          "data": {
            "text/plain": [
              "'joshua m'"
            ]
          },
          "execution_count": 418,
          "metadata": {},
          "output_type": "execute_result"
        }
      ],
      "source": [
        "name = \"Joshua M\"\n",
        "name.lower()"
      ]
    },
    {
      "cell_type": "code",
      "execution_count": 419,
      "metadata": {},
      "outputs": [
        {
          "data": {
            "text/plain": [
              "'JOSHUA M'"
            ]
          },
          "execution_count": 419,
          "metadata": {},
          "output_type": "execute_result"
        }
      ],
      "source": [
        "name.upper()"
      ]
    },
    {
      "cell_type": "code",
      "execution_count": 420,
      "metadata": {},
      "outputs": [
        {
          "data": {
            "text/plain": [
              "'Moshua M'"
            ]
          },
          "execution_count": 420,
          "metadata": {},
          "output_type": "execute_result"
        }
      ],
      "source": [
        "name.replace(\"J\", \"M\")"
      ]
    },
    {
      "cell_type": "code",
      "execution_count": 421,
      "metadata": {},
      "outputs": [],
      "source": [
        "# TODO: try and write code that creates the string \"San Francico, CA\" using the examples from above and the +\n",
        "city = \"Sar Frarcisco\"\n",
        "state = \"ca\""
      ]
    },
    {
      "cell_type": "markdown",
      "metadata": {},
      "source": [
        "#### Booleans\n",
        "\n",
        "While not important for our final project really, they are super simple and important to know.\n",
        "\n",
        "Booleans are another type of variable in python, just like string and numbers. But they are much more simple. They can only be true or false.\n",
        "\n",
        "This is useful for variables like is_darkmode_enabled because you only care if it is true/false. this means that True and False are both special words in python"
      ]
    },
    {
      "cell_type": "code",
      "execution_count": 422,
      "metadata": {},
      "outputs": [
        {
          "data": {
            "text/plain": [
              "False"
            ]
          },
          "execution_count": 422,
          "metadata": {},
          "output_type": "execute_result"
        }
      ],
      "source": [
        "is_darkmode_enabled = False # make sure it is captizalized!\n",
        "is_josh_cool = False # this is NOT a boolean, its a string\n",
        "\n",
        "is_darkmode_enabled"
      ]
    },
    {
      "cell_type": "markdown",
      "metadata": {},
      "source": [
        "# **Part 3: Many variables together**\n",
        "\n",
        "So now we've talked a lot about different kinds of variables and some ways to manipulate them. But when writing our AI clone it will be super important to keep track of many values at once. For example, we need to keep track of many different names like below. Instead of having to declare a bunch different variables, we can use a list to keep track of them together!"
      ]
    },
    {
      "cell_type": "code",
      "execution_count": 423,
      "metadata": {},
      "outputs": [],
      "source": [
        "# this works, and is useful at times, but other times it's just too annoying!\n",
        "name1 = \"josh\"\n",
        "name2 = \"nick\"\n",
        "name3 = \"kol\"\n",
        "name4 = \"ben\"\n",
        "\n",
        "# much easier!\n",
        "names = [\"josh\", \"mayer\", \"nick\", \"kol\"]"
      ]
    },
    {
      "cell_type": "markdown",
      "metadata": {},
      "source": [
        "#### Slicing lists (exactly like strings)\n",
        "\n",
        "slicing a list is almost exactly like slicing strings. so this code should feel very familiar. slicing strings may not seem super useful for our AI clone, but slicing lists totally will.\n",
        "\n",
        "[\"bball\", \"tennis\", \"soccer\", \"baseball\"]\n",
        "    0        1         2          3\n",
        "\n",
        "(double click to see index values accurately)"
      ]
    },
    {
      "cell_type": "code",
      "execution_count": 424,
      "metadata": {},
      "outputs": [
        {
          "data": {
            "text/plain": [
              "'mayer'"
            ]
          },
          "execution_count": 424,
          "metadata": {},
          "output_type": "execute_result"
        }
      ],
      "source": [
        "names = [\"josh\", \"mayer\", \"nick\", \"kol\"]\n",
        "names[1]"
      ]
    },
    {
      "cell_type": "code",
      "execution_count": 425,
      "metadata": {},
      "outputs": [
        {
          "data": {
            "text/plain": [
              "['mayer', 'nick']"
            ]
          },
          "execution_count": 425,
          "metadata": {},
          "output_type": "execute_result"
        }
      ],
      "source": [
        "names[1:3]"
      ]
    },
    {
      "cell_type": "code",
      "execution_count": 426,
      "metadata": {},
      "outputs": [],
      "source": [
        "# TODO: write code to output [\"nick\", \"kol\"]. HINT: this includes a tiny trick i haven't told you about. sorry. use google or chatgpt to learn something new."
      ]
    },
    {
      "cell_type": "markdown",
      "metadata": {},
      "source": [
        "#### Built in python functions for list manipulation\n",
        "\n",
        "dont feel the need to memorize these. similar to the section for strings, its just useful to get a feel for what's possible and what it looks like to write this kind of code."
      ]
    },
    {
      "cell_type": "code",
      "execution_count": 427,
      "metadata": {},
      "outputs": [
        {
          "name": "stdout",
          "output_type": "stream",
          "text": [
            "[8, 6, 4, 2]\n",
            "[2, 4, 6, 8]\n",
            "['mayer', 'nick', 'kol']\n",
            "['ben', 'thing1']\n"
          ]
        }
      ],
      "source": [
        "names = [\"josh\", \"mayer\", \"nick\", \"kol\"]\n",
        "nums = [2, 4, 6, 8]\n",
        "\n",
        "nums.reverse()\n",
        "print(nums)  # this just displays the value of names in the output\n",
        "\n",
        "nums.sort()\n",
        "print(nums)\n",
        "\n",
        "names.remove(\"josh\")\n",
        "print(names)\n",
        "\n",
        "newlist = []\n",
        "newlist.append(\"ben\")\n",
        "newlist.append(\"thing1\")\n",
        "print(newlist)"
      ]
    },
    {
      "cell_type": "markdown",
      "metadata": {},
      "source": [
        "#### Quick challenge\n",
        "\n",
        "let's write some prelimary code for the AI clone! pretend that the list <input_text> i've created for you is the user's input text for us to process. let's use list manipulations to prepare it for making more intelligent uses of it later."
      ]
    },
    {
      "cell_type": "code",
      "execution_count": 428,
      "metadata": {},
      "outputs": [],
      "source": [
        "input_text = [\"once\", \"upon\", \"a\", \"time\", \",\", \"i ate\", \".\"]\n",
        "\n",
        "# TODO: write a line to delete the punctation using .remove()\n",
        "\n",
        "# TODO: write a line of code to add a food to the end of the list\n",
        "\n",
        "# TODO: print and output the final list"
      ]
    },
    {
      "cell_type": "markdown",
      "metadata": {},
      "source": [
        "# **Part 4: Putting lines of code together**\n",
        "\n",
        "Up until know we've only written a few lines of code together at a time. but what if we want to build reusable snippets of code? it would be pretty annoying to have to copy and paste lines of code every time we want to do that. so in Python, there is something called a function."
      ]
    },
    {
      "cell_type": "code",
      "execution_count": 429,
      "metadata": {},
      "outputs": [
        {
          "name": "stdout",
          "output_type": "stream",
          "text": [
            "hello\n"
          ]
        }
      ],
      "source": [
        "# this is how you create a function\n",
        "def say_hi():\n",
        "    print(\"hello\")\n",
        "\n",
        "# this is how you use the code within a function (aka \"call\" a function)\n",
        "say_hi()"
      ]
    },
    {
      "cell_type": "code",
      "execution_count": 430,
      "metadata": {},
      "outputs": [],
      "source": [
        "# the typical form of a function\n",
        "def function_name(input):\n",
        "    # write some lines of code\n",
        "    #\n",
        "    #\n",
        "    # more code...\n",
        "    return output\n"
      ]
    },
    {
      "cell_type": "markdown",
      "metadata": {},
      "source": [
        "it's useful to be able to write re-usable code, but sometimes that code needs to change slightly based on how we use it. Python allows you to input variables when you use a function to help this out. "
      ]
    },
    {
      "cell_type": "code",
      "execution_count": 431,
      "metadata": {},
      "outputs": [],
      "source": [
        "def add(x, y): # x and y are input variables that are like place holders for when this function is actually used in the next code block\n",
        "    return x + y # the return is super important, this is the final output of the function. almost every function has a return value."
      ]
    },
    {
      "cell_type": "code",
      "execution_count": 432,
      "metadata": {},
      "outputs": [
        {
          "data": {
            "text/plain": [
              "7"
            ]
          },
          "execution_count": 432,
          "metadata": {},
          "output_type": "execute_result"
        }
      ],
      "source": [
        "add(4, 3) # 4 and 3 are the actual inputs when we execute the code within the function. 4 becomes x and 3 becomes y."
      ]
    },
    {
      "cell_type": "code",
      "execution_count": 433,
      "metadata": {},
      "outputs": [],
      "source": [
        "# TODO: write a function that multiplies two input variables x and y. output the product of x and y\n",
        "def multiply(x, y):\n",
        "    return # TODO: what should you output\n",
        "\n",
        "multiply(2, 3)"
      ]
    },
    {
      "cell_type": "code",
      "execution_count": 434,
      "metadata": {},
      "outputs": [],
      "source": [
        "# TODO: write a function that takes an input called name, then returns (outputs) that string all uppercase"
      ]
    },
    {
      "cell_type": "code",
      "execution_count": 435,
      "metadata": {},
      "outputs": [],
      "source": [
        "# TODO: (challenge) write a function that takes in two inputs, x and y and returns (x + y) * (x * y). ONLY use the functions from above."
      ]
    },
    {
      "cell_type": "markdown",
      "metadata": {},
      "source": [
        "# **Part 5: More than just line-by-line**\n",
        "\n",
        "Up until now, we have only seen code get executed from top to bottom line-by-line. with the exception of calling functions, but still in that case, the code within functions was executed line-by-line. let's take a look at two extremely useful tools that dont necesarily follow this pattern: if/else statements and loops."
      ]
    },
    {
      "cell_type": "code",
      "execution_count": 436,
      "metadata": {},
      "outputs": [
        {
          "name": "stdout",
          "output_type": "stream",
          "text": [
            "True\n",
            "False\n",
            "True\n",
            "False\n",
            "False\n",
            "True\n"
          ]
        }
      ],
      "source": [
        "joshs_bank_account = 10\n",
        "name = \"josh\"\n",
        "\n",
        "# REVIEW: boolean expressions\n",
        "# notice the difference between == and =\n",
        "# otherwise these should feel pretty good\n",
        "\n",
        "print(joshs_bank_account > 5)\n",
        "print((joshs_bank_account - 6) > 5)\n",
        "print(joshs_bank_account == 10)\n",
        "print(joshs_bank_account == 23)\n",
        "\n",
        "print(name == \"jack\")\n",
        "print(name == \"josh\")"
      ]
    },
    {
      "cell_type": "markdown",
      "metadata": {},
      "source": [
        "#### if/else statements\n",
        "\n",
        "these might look a little funky at first but just stick with it, and you'll understand."
      ]
    },
    {
      "cell_type": "code",
      "execution_count": 437,
      "metadata": {},
      "outputs": [
        {
          "name": "stdout",
          "output_type": "stream",
          "text": [
            "josh is not cool\n",
            "yay\n"
          ]
        }
      ],
      "source": [
        "is_josh_cool = False # remember booleans?\n",
        "if is_josh_cool:\n",
        "    print(\"josh is cool\")\n",
        "else:\n",
        "    print(\"josh is not cool\")\n",
        "\n",
        "print(\"yay\")"
      ]
    },
    {
      "cell_type": "code",
      "execution_count": 438,
      "metadata": {},
      "outputs": [
        {
          "name": "stdout",
          "output_type": "stream",
          "text": [
            "False\n",
            "Josh is not cool\n"
          ]
        }
      ],
      "source": [
        "is_josh_cool = False # remember booleans?\n",
        "print(is_josh_cool == True) # you must use == to test if two things are equal\n",
        "\n",
        "if is_josh_cool == True: # if valid, do the next line\n",
        "    print(\"Josh is cool\")\n",
        "else: # if it was no good, do this next line\n",
        "    print(\"Josh is not cool\")\n",
        "\n",
        "# TODO: change the value of is_josh_cool to True and see what happens"
      ]
    },
    {
      "cell_type": "code",
      "execution_count": 439,
      "metadata": {},
      "outputs": [
        {
          "name": "stdout",
          "output_type": "stream",
          "text": [
            "always going to print\n"
          ]
        }
      ],
      "source": [
        "if True:\n",
        "    print(\"always going to print\")"
      ]
    },
    {
      "cell_type": "code",
      "execution_count": 440,
      "metadata": {},
      "outputs": [],
      "source": [
        "# TODO: define a function called abs(x) that takes in a number x, and returns the absolute value of x\n",
        "# HINT: use the less than operator: (x < 4) to test if something is less than 0"
      ]
    },
    {
      "cell_type": "markdown",
      "metadata": {},
      "source": [
        "#### Loops\n",
        "\n",
        "So loops are sorta what they sound like. The loop multiple times to execute code. the most important loop is called a \"for loop\""
      ]
    },
    {
      "cell_type": "code",
      "execution_count": 441,
      "metadata": {},
      "outputs": [
        {
          "name": "stdout",
          "output_type": "stream",
          "text": [
            "1\n",
            "2\n",
            "3\n",
            "4\n",
            "5\n",
            "6\n"
          ]
        }
      ],
      "source": [
        "for number in [1, 2, 3, 4, 5, 6]:\n",
        "    print(number)"
      ]
    },
    {
      "cell_type": "code",
      "execution_count": 442,
      "metadata": {},
      "outputs": [],
      "source": [
        "# TODO: write a loop that prints all the numbers in a list doubled. HINT: print(num * 2)"
      ]
    },
    {
      "cell_type": "code",
      "execution_count": 443,
      "metadata": {},
      "outputs": [
        {
          "name": "stdout",
          "output_type": "stream",
          "text": [
            "cow\n",
            "pig\n",
            "horse\n"
          ]
        }
      ],
      "source": [
        "words = [\"cow\", \"pig\", \"horse\"]\n",
        "for word in words:\n",
        "    print(word)"
      ]
    },
    {
      "cell_type": "markdown",
      "metadata": {},
      "source": [
        " dont get lost in the range() function. all it does is create a list for you, in this case from numbers 1-7 (exclusive). this is just helpful so you dont have to write out a whole list like above."
      ]
    },
    {
      "cell_type": "code",
      "execution_count": 444,
      "metadata": {},
      "outputs": [
        {
          "name": "stdout",
          "output_type": "stream",
          "text": [
            "1\n",
            "2\n",
            "3\n",
            "4\n",
            "5\n",
            "6\n"
          ]
        }
      ],
      "source": [
        "for index in range(1, 7):\n",
        "    print(index)"
      ]
    },
    {
      "cell_type": "code",
      "execution_count": 445,
      "metadata": {},
      "outputs": [],
      "source": [
        "# TODO: write a function count_words(words) that takes in an input variable that will be a list of words. then return the number of words in the list."
      ]
    },
    {
      "cell_type": "code",
      "execution_count": 446,
      "metadata": {},
      "outputs": [],
      "source": [
        "# TODO: write a loop that only prints the even numbers in a list\n",
        "cool_nums = [3, 10, 84, 4882, 69, 8948, 5]\n",
        "\n",
        "\n",
        "# your function should print: 10, 84, 4882, 8948 when tested with cool_nums"
      ]
    },
    {
      "cell_type": "markdown",
      "metadata": {},
      "source": [
        "# **Part 6: Lists but better**\n",
        "\n",
        "We've seen lots of lists by now and they will continue to be super helpful. But, lists can't solve all our problems as we try to build this AI clone. There is one final foundational building block we need to talk about: dictionaries.\n",
        "\n",
        "Dictionaries work almost exactly like what the word means, a dictionary. In a physical dictionary, there is a list of words and every word has an attatched definition. In a python dictionary, there is similarly a list of words called keys, and every key has a definition called a value. Where every value can be any type of variable we've seen so far (boolean, number, string).\n",
        "\n",
        "Lists vs. dictionaries:\n",
        "\n",
        "You can think of a dictionary as like a list, but instead of the automatic indices (0, 1, 2...) that python keeps track of for your, these indices are defined by you (called a key) as a keyword. In the same way you access a single item of a list using its index, you can access a single value from a dictionary using its key.\n",
        "\n",
        "important notes:\n",
        "- dictionaries do not have an order like lists. no value comes \"before\" or \"after\" another value.\n",
        "- you cant slice a dictionary since there is no order\n",
        "- dictionaries use {} instead of [] like lists\n",
        "- KEYS MUST BE UNIQUE!\n"
      ]
    },
    {
      "cell_type": "code",
      "execution_count": 447,
      "metadata": {},
      "outputs": [],
      "source": [
        "list_of_names = [\n",
        "    \"josh\", # index 0\n",
        "    \"ben\",  # index 1\n",
        "    \"kol\",  # index 2\n",
        "    \"nico\"  # index 3\n",
        "]"
      ]
    },
    {
      "cell_type": "code",
      "execution_count": 448,
      "metadata": {},
      "outputs": [
        {
          "data": {
            "text/plain": [
              "'kol'"
            ]
          },
          "execution_count": 448,
          "metadata": {},
          "output_type": "execute_result"
        }
      ],
      "source": [
        "key = {\n",
        "    \"name1\": \"josh\",            # key \"name1\"\n",
        "    \"name2\": \"kol\",             # key \"name2\"\n",
        "    \"name34\": \"nico\",           # key \"name34\"\n",
        "    \"book\": \"Ready Player One\", # key \"book\"\n",
        "    \"KEYNAME\": \"VALUE\"          # key \"KEYNAME\"\n",
        "}\n",
        "\n",
        "key[\"name2\"] # TODO: change this to output the value of \"book\""
      ]
    },
    {
      "cell_type": "code",
      "execution_count": 449,
      "metadata": {},
      "outputs": [],
      "source": [
        "# TODO: make a dictionary that stores author names and a list of books that they have written\n",
        "\n",
        "# Helpful info :)\n",
        "# J.K. Rowling wrote: \"Harry Potter and the Sorcerer's Stone\", \"Harry Potter and the Chamber of Secrets\", and \"Harry Potter and the Prisoner of Azkaban\"\n",
        "# George R.R. Martin wrote: \"A Game of Thrones\", \"A Clash of Kings\", and \"A Storm of Swords\"\n",
        "# Stephen King wrote: \"The Shining\", \"Carrie\", and \"It\"\n",
        "\n",
        "authors_books = {\n",
        "    # TODO:\n",
        "}\n",
        "\n",
        "# to test:\n",
        "# print(authors_books[\"Stephen King\"])\n",
        "# should output [\"The Shining\", \"Carrie\", \"It\"]"
      ]
    },
    {
      "cell_type": "code",
      "execution_count": 450,
      "metadata": {},
      "outputs": [
        {
          "name": "stdout",
          "output_type": "stream",
          "text": [
            "Lambo\n",
            "\n"
          ]
        }
      ],
      "source": [
        "my_friends_cars = {\n",
        "    \"josh\": {\n",
        "        \"make\": \"Lambo\",\n",
        "        \"model\": 2026,\n",
        "        \"rating\": 4.6,\n",
        "        \"comment\": \"not my favorite car\",\n",
        "        \"recent locations\": [\"SF\", \"LA\", \"NY\"]\n",
        "    },\n",
        "    \"alice\": {\n",
        "        \"make\": \"Tesla\",\n",
        "        \"model\": \"Model 3\",\n",
        "        \"rating\": 4.9,\n",
        "        \"comment\": \"love the electric feel\",\n",
        "        \"recent locations\": [\"LA\", \"Seattle\", \"Portland\"]\n",
        "    },\n",
        "   # TODO: add your own car and fill in the values\n",
        "}\n",
        "\n",
        "print(my_friends_cars[\"josh\"][\"make\"])\n",
        "\n",
        "# TODO: print so that it outputs 4.9 (do something similar to the code above)\n",
        "print()\n",
        "\n",
        "# TODO: print so that it outputs \"Seattle\""
      ]
    },
    {
      "cell_type": "code",
      "execution_count": 451,
      "metadata": {},
      "outputs": [
        {
          "name": "stdout",
          "output_type": "stream",
          "text": [
            "{'josh': 4.9}\n",
            "{'josh': 4.9, 'ben': 3.0}\n",
            "{'josh': 2.1, 'ben': 3.0}\n"
          ]
        }
      ],
      "source": [
        "burger_reviews = {}\n",
        "\n",
        "# how to add/edit values in a dictionary\n",
        "\n",
        "# ADD joshs review\n",
        "burger_reviews[\"josh\"] = 4.9\n",
        "print(burger_reviews)\n",
        "\n",
        "# ADD bens review\n",
        "burger_reviews[\"ben\"] = 3.0\n",
        "print(burger_reviews)\n",
        "\n",
        "# EDIT joshs review\n",
        "burger_reviews[\"josh\"] = 2.1\n",
        "print(burger_reviews)\n",
        "\n",
        "# TODO: add your own burger review to the dictionary"
      ]
    },
    {
      "cell_type": "code",
      "execution_count": 452,
      "metadata": {},
      "outputs": [
        {
          "name": "stdout",
          "output_type": "stream",
          "text": [
            "kol has not reviewed yet\n"
          ]
        }
      ],
      "source": [
        "# How to test if a key is in a dictionary already\n",
        "if \"kol\" in burger_reviews:\n",
        "    print(\"kol is here\")\n",
        "else:\n",
        "    print(\"kol has not reviewed yet\")"
      ]
    },
    {
      "cell_type": "code",
      "execution_count": 453,
      "metadata": {},
      "outputs": [],
      "source": [
        "# TODO: write a function that loops over all the values in burger reviews and outputs the sum of all the reviews\n",
        "# HINT: list(burger_reviews.values()) gives you a list you can use within a for loop"
      ]
    },
    {
      "cell_type": "markdown",
      "metadata": {},
      "source": [
        "# **Part 7: It's time to BUILD!!!**\n",
        "\n",
        "You should be really proud of yourself, you are now a python expert and have all the foundational knowledge to build a super cool project! We will start will the building blocks and slowly work our way up to the final project."
      ]
    }
  ],
  "metadata": {
    "kernelspec": {
      "display_name": "Python 3",
      "language": "python",
      "name": "python3"
    },
    "language_info": {
      "codemirror_mode": {
        "name": "ipython",
        "version": 3
      },
      "file_extension": ".py",
      "mimetype": "text/x-python",
      "name": "python",
      "nbconvert_exporter": "python",
      "pygments_lexer": "ipython3",
      "version": "3.9.16"
    }
  },
  "nbformat": 4,
  "nbformat_minor": 2
}

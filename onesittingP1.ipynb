{
  "cells": [
    {
      "cell_type": "markdown",
      "metadata": {},
      "source": [
        "# Learn Python in One Sitting\n",
        "\n",
        "### In this tutorial i'll teach you how to code in Python as we build an AI clone that talks like you, from scratch. uh, that sounds super difficult. dont worry it wont be! we are going to use some beginner techniques and you'll understand it all i promise. \n",
        "\n",
        "This tutorial is meant for people who have never coded before, but are interested in what it even means to \"code\" and what the fuck \"Python\" does. 🐍\n",
        "\n",
        "*By Josh Mayer*"
      ]
    },
    {
      "cell_type": "markdown",
      "metadata": {},
      "source": [
        "## A preview of the future\n",
        "\n",
        "This is the code you are going to write by then end of this adventure. dont get overwhelmed let's just get to it!"
      ]
    },
    {
      "cell_type": "code",
      "execution_count": 627,
      "metadata": {},
      "outputs": [
        {
          "name": "stdout",
          "output_type": "stream",
          "text": [
            "great pith and the law's delay, The pangs of death what dreams may come, When we end The pangs of outrageous fortune, Or to be wish'd. To sleep, perchance to others that is heir to: 'tis nobler in the will, And makes us pause—there's the will, And makes us pause—there's\n"
          ]
        }
      ],
      "source": [
        "import random\n",
        "\n",
        "def create_dictionary(corpus):\n",
        "    words = corpus.split()\n",
        "    word_dict = {}\n",
        "    for i in range(len(words)-1):\n",
        "        if words[i] in word_dict:\n",
        "            word_dict[words[i]].append(words[i+1])\n",
        "        else:\n",
        "            word_dict[words[i]] = [words[i+1]]\n",
        "    return word_dict\n",
        "\n",
        "def generate_text(word_dict, length=10):\n",
        "    current_word = random.choice(list(word_dict.keys()))\n",
        "    text = current_word\n",
        "    for _ in range(length-1):\n",
        "        if current_word in word_dict:\n",
        "            next_word = random.choice(word_dict[current_word])\n",
        "            text += \" \" + next_word\n",
        "            current_word = next_word\n",
        "        else:\n",
        "            break\n",
        "    return text\n",
        "\n",
        "corpus = \"\"\"To be, or not to be, that is the question:\n",
        "Whether 'tis nobler in the mind to suffer\n",
        "The slings and arrows of outrageous fortune,\n",
        "Or to take arms against a sea of troubles\n",
        "And by opposing end them. To die—to sleep,\n",
        "No more; and by a sleep to say we end\n",
        "The heart-ache and the thousand natural shocks\n",
        "That flesh is heir to: 'tis a consummation\n",
        "Devoutly to be wish'd. To die, to sleep;\n",
        "To sleep, perchance to dream—ay, there's the rub:\n",
        "For in that sleep of death what dreams may come,\n",
        "When we have shuffled off this mortal coil,\n",
        "Must give us pause—there's the respect\n",
        "That makes calamity of so long life.\n",
        "For who would bear the whips and scorns of time,\n",
        "Th'oppressor's wrong, the proud man's contumely,\n",
        "The pangs of dispriz'd love, the law's delay,\n",
        "The insolence of office, and the spurns\n",
        "That patient merit of th'unworthy takes,\n",
        "When he himself might his quietus make\n",
        "With a bare bodkin? Who would fardels bear,\n",
        "To grunt and sweat under a weary life,\n",
        "But that the dread of something after death,\n",
        "The undiscovere'd country, from whose bourn\n",
        "No traveller returns, puzzles the will,\n",
        "And makes us rather bear those ills we have\n",
        "Than fly to others that we know not of?\n",
        "Thus conscience doth make cowards of us all,\n",
        "And thus the native hue of resolution\n",
        "Is sicklied o'er with the pale cast of thought,\n",
        "And enterprises of great pith and moment\n",
        "With this regard their currents turn awry\n",
        "And lose the name of action.\"\"\"\n",
        "word_dict = create_dictionary(corpus)\n",
        "generated_text = generate_text(word_dict, length=50)\n",
        "print(generated_text)"
      ]
    },
    {
      "cell_type": "markdown",
      "metadata": {},
      "source": [
        "## Outline\n",
        "\n",
        "1. let's get busy (introduction)\n",
        "2. the atomic units of code (variables)\n",
        "3. many variables together (lists)\n",
        "4. putting lines of code together (functions)\n",
        "5. more than line-by-line (loops/program flow)\n",
        "6. lists but cooler (dictionaries)\n",
        "\n",
        "7. putting it all together"
      ]
    },
    {
      "cell_type": "markdown",
      "metadata": {},
      "source": [
        "## How to run code on this website\n",
        "\n",
        "There should be a play button on the top left of every code block. Not this one cuz its text. Once you click that the code will \"run\", meaning the computer will go down line-by-line and execute."
      ]
    },
    {
      "cell_type": "markdown",
      "metadata": {},
      "source": [
        "# Part 1: let's get busy\n",
        "\n",
        "### so what does it mean to code?? Coding is simply writing commands to a computer so that it can do things for you. \n",
        "\n",
        "it's really just the same as when you use a calculator and punch in calculations like 39 = 3x + 3. it solves for x for you aka doing something after you gave it a line of code.  \n",
        "\n",
        "but you couldn't just type random gibberish into a calculator. cooler ones the ti-84 had more functionality but the point is the calculator would get mad if the input text didn't follow a certain format.\n",
        "\n",
        "that's exactly what code is! code is like an agreement between you and the computer to speak in a certain way that you both can understand (aka a langauge).\n",
        "\n",
        "this is why you'll see certain specific \"syntax\" that you just sorta have to follow when typing lines of code, or else the poor computer just wont understand you and get frustrated."
      ]
    },
    {
      "cell_type": "markdown",
      "metadata": {},
      "source": [
        "### Your first line of code!!\n",
        "\n",
        "This is exciting, click the play button next to the code block following this text block and see what happens"
      ]
    },
    {
      "cell_type": "code",
      "execution_count": 587,
      "metadata": {},
      "outputs": [
        {
          "data": {
            "text/plain": [
              "2"
            ]
          },
          "execution_count": 587,
          "metadata": {},
          "output_type": "execute_result"
        }
      ],
      "source": [
        "1 + 1"
      ]
    },
    {
      "cell_type": "markdown",
      "metadata": {},
      "source": [
        "nicely done, pretty simple but we have to start with the building blocks before anything else.\n",
        "\n",
        "as you can see, sorta like a calculator. you put in input text, and the computer does something for you."
      ]
    },
    {
      "cell_type": "code",
      "execution_count": 588,
      "metadata": {},
      "outputs": [
        {
          "data": {
            "text/plain": [
              "6454.0"
            ]
          },
          "execution_count": 588,
          "metadata": {},
          "output_type": "execute_result"
        }
      ],
      "source": [
        "922 * 7 + 201.4 / 21 ** 4 // 9"
      ]
    },
    {
      "cell_type": "markdown",
      "metadata": {},
      "source": [
        "slightly more complicated with a bit more python-specific \"syntax\" thrown in the mix. the hardest part about learning to code is avoiding getting lost in syntax and new-looking text inputs. dont try and memorize anything yet, its about getting a feel for how writing code works and how it is executed. there is no reason to completely understand everything.\n",
        "\n",
        "and there you go, welcome to the world of coding. you just did it twice. now lets dive deeper."
      ]
    },
    {
      "cell_type": "markdown",
      "metadata": {},
      "source": [
        "# Part 2: the atomic units of code\n",
        "\n",
        "in this section i'll introduce the idea of variables, which is really the same idea of variables you learned in math. naming a value to be saved and used later, aka a variable."
      ]
    },
    {
      "cell_type": "markdown",
      "metadata": {},
      "source": [
        "this is what it looks like to create a variable in python"
      ]
    },
    {
      "cell_type": "code",
      "execution_count": 589,
      "metadata": {},
      "outputs": [],
      "source": [
        "x = 69"
      ]
    },
    {
      "cell_type": "markdown",
      "metadata": {},
      "source": [
        "you can save pretty much anything into a variable."
      ]
    },
    {
      "cell_type": "code",
      "execution_count": 590,
      "metadata": {},
      "outputs": [
        {
          "data": {
            "text/plain": [
              "25816.0"
            ]
          },
          "execution_count": 590,
          "metadata": {},
          "output_type": "execute_result"
        }
      ],
      "source": [
        "joshs_bank_account = 922 * 28 + 201.4 / 21 ** 4 // 123\n",
        "\n",
        "joshs_bank_account"
      ]
    },
    {
      "cell_type": "markdown",
      "metadata": {},
      "source": [
        "just like in math, you can use variables inside of equations. guess what y equals, then run the code."
      ]
    },
    {
      "cell_type": "code",
      "execution_count": 591,
      "metadata": {},
      "outputs": [
        {
          "data": {
            "text/plain": [
              "276"
            ]
          },
          "execution_count": 591,
          "metadata": {},
          "output_type": "execute_result"
        }
      ],
      "source": [
        "y = x + x + (2 * x)\n",
        "\n",
        "y"
      ]
    },
    {
      "cell_type": "code",
      "execution_count": 592,
      "metadata": {},
      "outputs": [
        {
          "data": {
            "text/plain": [
              "277"
            ]
          },
          "execution_count": 592,
          "metadata": {},
          "output_type": "execute_result"
        }
      ],
      "source": [
        "y += 1\n",
        "\n",
        "y"
      ]
    },
    {
      "cell_type": "markdown",
      "metadata": {},
      "source": [
        "time to write code! "
      ]
    },
    {
      "cell_type": "code",
      "execution_count": 593,
      "metadata": {},
      "outputs": [],
      "source": [
        "# TODO: make a new variable z, that equals 10. make sure to click run when your done."
      ]
    },
    {
      "cell_type": "code",
      "execution_count": 594,
      "metadata": {},
      "outputs": [],
      "source": [
        "# TODO: add z to y and run the code. you should get 288!"
      ]
    },
    {
      "cell_type": "markdown",
      "metadata": {},
      "source": [
        "now as you might guess, code is not only one line! you can write multiple lines of code in one block together. when you click run, the computer will execute the lines one by one going from top to bottom.\n",
        "\n",
        "take a look at what happens here"
      ]
    },
    {
      "cell_type": "code",
      "execution_count": 595,
      "metadata": {},
      "outputs": [
        {
          "data": {
            "text/plain": [
              "12"
            ]
          },
          "execution_count": 595,
          "metadata": {},
          "output_type": "execute_result"
        }
      ],
      "source": [
        "x = 1\n",
        "y = 1\n",
        "\n",
        "x = x + 2 # TODO\n",
        "y = y + 2 # TODO\n",
        "\n",
        "z = x * 2\n",
        "\n",
        "x + y + z"
      ]
    },
    {
      "cell_type": "markdown",
      "metadata": {},
      "source": [
        "now change the code above to output 12. hint: edit the 4th and 5th lines."
      ]
    },
    {
      "cell_type": "markdown",
      "metadata": {},
      "source": [
        "## There are more than just numbers\n",
        "\n",
        "so up until now, we've only cared about numbers. but our final project has to do with text we need to be able to work with words. introducing, \"strings\". \n",
        "\n",
        "a string is just the name for when you want to work with words rather than numbers\n",
        "\n",
        "you can store strings into variables in the exact same way as numbers"
      ]
    },
    {
      "cell_type": "code",
      "execution_count": 596,
      "metadata": {},
      "outputs": [],
      "source": [
        "x = 7 # this is a number\n",
        "\n",
        "sport = \"basketball\" # this is a string, its a word wrapped in quotes\n",
        "\n",
        "breakfast = \"i ate 7 pancakes\" # this is a string, notice it contains a number but its within the quotes so its still all a string"
      ]
    },
    {
      "cell_type": "markdown",
      "metadata": {},
      "source": [
        "### Manipulating strings\n",
        "\n",
        "as we build our AI clone, we are going to have to work with strings. this often involves changing them somehow. there are a ton of ways to do it, so the point here is to see what's out there not try and memorize everything"
      ]
    },
    {
      "cell_type": "code",
      "execution_count": 597,
      "metadata": {},
      "outputs": [
        {
          "data": {
            "text/plain": [
              "'Josh Mayer'"
            ]
          },
          "execution_count": 597,
          "metadata": {},
          "output_type": "execute_result"
        }
      ],
      "source": [
        "full_name = \"Josh \" + \"Mayer\"\n",
        "\n",
        "full_name"
      ]
    },
    {
      "cell_type": "code",
      "execution_count": 598,
      "metadata": {},
      "outputs": [],
      "source": [
        "# write code to output your name\n",
        "# TODO"
      ]
    },
    {
      "cell_type": "markdown",
      "metadata": {},
      "source": [
        "#### Slicing strings\n",
        "\n",
        "every string in python has an underlying order to the letters. this is something python just remembers for you. the first letter is a 0 going all the way up with numbers to the last letter.\n",
        "\n",
        "\"b a s k e t b a l l\"  <-- the string\n",
        " 0 1 2 3 4 5 6 7 8 9   <-- its index values"
      ]
    },
    {
      "cell_type": "markdown",
      "metadata": {},
      "source": [
        "so to access a specific letter within a string, you can ask python using that letter's index"
      ]
    },
    {
      "cell_type": "code",
      "execution_count": 599,
      "metadata": {},
      "outputs": [
        {
          "data": {
            "text/plain": [
              "'a'"
            ]
          },
          "execution_count": 599,
          "metadata": {},
          "output_type": "execute_result"
        }
      ],
      "source": [
        "sport = \"basketball\"\n",
        "sport[7]"
      ]
    },
    {
      "cell_type": "code",
      "execution_count": 600,
      "metadata": {},
      "outputs": [],
      "source": [
        "sport = \"basketball\"\n",
        "\n",
        "# write a line to ask for the 3rd letter in sport:\n",
        "# TODO"
      ]
    },
    {
      "cell_type": "markdown",
      "metadata": {},
      "source": [
        "what if i want to get several letters at the same time?\n",
        "\n",
        "you slice.\n",
        "\n",
        "string_name[start : end]\n",
        "\n",
        "this is a similar concept as grabbing one letter, except you grab all the letters from the start all the way up to the end (exluding the last letter)"
      ]
    },
    {
      "cell_type": "code",
      "execution_count": 601,
      "metadata": {},
      "outputs": [
        {
          "data": {
            "text/plain": [
              "'ketba'"
            ]
          },
          "execution_count": 601,
          "metadata": {},
          "output_type": "execute_result"
        }
      ],
      "source": [
        "sport[0:4]\n",
        "sport[3:8]"
      ]
    },
    {
      "cell_type": "code",
      "execution_count": 602,
      "metadata": {},
      "outputs": [
        {
          "data": {
            "text/plain": [
              "'y'"
            ]
          },
          "execution_count": 602,
          "metadata": {},
          "output_type": "execute_result"
        }
      ],
      "source": [
        "sport = \"basketball is my favorite sport\"\n",
        "\n",
        "# write a line to output 'bal':\n",
        "# TODO\n",
        "sport[15]"
      ]
    },
    {
      "cell_type": "markdown",
      "metadata": {},
      "source": [
        "#### Some special string manipulation\n",
        "\n",
        "dont worry if this part doesn't make sense, it's just important to dive into some of these cool ways to quickly edit strings using python built in \"functions\""
      ]
    },
    {
      "cell_type": "code",
      "execution_count": 603,
      "metadata": {},
      "outputs": [
        {
          "data": {
            "text/plain": [
              "'joshua m'"
            ]
          },
          "execution_count": 603,
          "metadata": {},
          "output_type": "execute_result"
        }
      ],
      "source": [
        "name = \"Joshua M\"\n",
        "name.lower()"
      ]
    },
    {
      "cell_type": "code",
      "execution_count": 604,
      "metadata": {},
      "outputs": [
        {
          "data": {
            "text/plain": [
              "'JOSHUA M'"
            ]
          },
          "execution_count": 604,
          "metadata": {},
          "output_type": "execute_result"
        }
      ],
      "source": [
        "name.upper()"
      ]
    },
    {
      "cell_type": "code",
      "execution_count": 605,
      "metadata": {},
      "outputs": [
        {
          "data": {
            "text/plain": [
              "'Moshua M'"
            ]
          },
          "execution_count": 605,
          "metadata": {},
          "output_type": "execute_result"
        }
      ],
      "source": [
        "name.replace(\"J\", \"M\")"
      ]
    },
    {
      "cell_type": "code",
      "execution_count": 606,
      "metadata": {},
      "outputs": [],
      "source": [
        "# TODO: try and write code that creates the string \"San Francico, CA\" using the examples from above and the +\n",
        "city = \"Sar Frarcisco\"\n",
        "state = \"ca\""
      ]
    },
    {
      "cell_type": "markdown",
      "metadata": {},
      "source": [
        "#### Bonus: Booleans\n",
        "\n",
        "While not important for our final project really, they are super simple and important to know.\n",
        "\n",
        "Booleans are another type of variable in python, just like string and numbers. But they are much more simple. They can only be true or false.\n",
        "\n",
        "This is useful for variables like is_darkmode_enabled because you only care if it is true/false. this means that True and False are both special words in python"
      ]
    },
    {
      "cell_type": "code",
      "execution_count": 607,
      "metadata": {},
      "outputs": [
        {
          "data": {
            "text/plain": [
              "False"
            ]
          },
          "execution_count": 607,
          "metadata": {},
          "output_type": "execute_result"
        }
      ],
      "source": [
        "is_darkmode_enabled = False # make sure it is captizalized!\n",
        "is_josh_cool = False # this is NOT a boolean, its a string\n",
        "\n",
        "is_darkmode_enabled"
      ]
    },
    {
      "cell_type": "markdown",
      "metadata": {},
      "source": [
        "# Part 3: many variables together\n",
        "\n",
        "So now we've talked a lot about different kinds of variables and some ways to manipulate them. But when writing our AI clone it will be super important to keep track of many values at once. For example, we need to keep track of many different names like below. Instead of having to declare a bunch different variables, we can use a list to keep track of them together!"
      ]
    },
    {
      "cell_type": "code",
      "execution_count": 608,
      "metadata": {},
      "outputs": [],
      "source": [
        "# this works, and is useful at times, but other times it's just too annoying!\n",
        "name1 = \"josh\"\n",
        "name2 = \"nick\"\n",
        "name3 = \"kol\"\n",
        "name4 = \"ben\"\n",
        "\n",
        "# much easier!\n",
        "names = [\"josh\", \"mayer\", \"nick\", \"kol\"]"
      ]
    },
    {
      "cell_type": "markdown",
      "metadata": {},
      "source": [
        "#### Slicing lists (exactly like strings)\n",
        "\n",
        "slicing a list is almost exactly like slicing strings. so this code should feel very familiar. slicing strings may not seem super useful for our AI clone, but slicing lists totally will.\n",
        "\n",
        "[\"bball\", \"tennis\", \"soccer\", \"baseball\"]\n",
        "    0        1         2          3\n",
        "\n",
        "(double click to see index values accurately)"
      ]
    },
    {
      "cell_type": "code",
      "execution_count": 632,
      "metadata": {},
      "outputs": [
        {
          "data": {
            "text/plain": [
              "'mayer'"
            ]
          },
          "execution_count": 632,
          "metadata": {},
          "output_type": "execute_result"
        }
      ],
      "source": [
        "names = [\"josh\", \"mayer\", \"nick\", \"kol\"]\n",
        "names[1]"
      ]
    },
    {
      "cell_type": "code",
      "execution_count": 633,
      "metadata": {},
      "outputs": [
        {
          "data": {
            "text/plain": [
              "['mayer', 'nick']"
            ]
          },
          "execution_count": 633,
          "metadata": {},
          "output_type": "execute_result"
        }
      ],
      "source": [
        "names[1:3]"
      ]
    },
    {
      "cell_type": "code",
      "execution_count": 638,
      "metadata": {},
      "outputs": [
        {
          "data": {
            "text/plain": [
              "['josh', 'mayer']"
            ]
          },
          "execution_count": 638,
          "metadata": {},
          "output_type": "execute_result"
        }
      ],
      "source": [
        "# TODO: write code to output [\"nick\", \"kol\"]. HINT: this includes a tiny trick i haven't told you about. sorry. use google or chatgpt to learn something new."
      ]
    },
    {
      "cell_type": "markdown",
      "metadata": {},
      "source": [
        "#### Built in python functions for list manipulation\n",
        "\n",
        "dont feel the need to memorize these. similar to the section for strings, its just useful to get a feel for what's possible and what it looks like to write this kind of code."
      ]
    },
    {
      "cell_type": "code",
      "execution_count": 639,
      "metadata": {},
      "outputs": [
        {
          "name": "stdout",
          "output_type": "stream",
          "text": [
            "[8, 6, 4, 2]\n",
            "[2, 4, 6, 8]\n",
            "['mayer', 'nick', 'kol']\n",
            "['ben', 'thing1']\n"
          ]
        }
      ],
      "source": [
        "names = [\"josh\", \"mayer\", \"nick\", \"kol\"]\n",
        "nums = [2, 4, 6, 8]\n",
        "\n",
        "nums.reverse()\n",
        "print(nums)  # this just displays the value of names in the output\n",
        "\n",
        "nums.sort()\n",
        "print(nums)\n",
        "\n",
        "names.remove(\"josh\")\n",
        "print(names)\n",
        "\n",
        "newlist = []\n",
        "newlist.append(\"ben\")\n",
        "newlist.append(\"thing1\")\n",
        "print(newlist)"
      ]
    },
    {
      "cell_type": "markdown",
      "metadata": {},
      "source": [
        "#### Quick challenge\n",
        "\n",
        "let's write some prelimary code for the AI clone! pretend that the list <input_text> i've created for you is the user's input text for us to process. let's use list manipulations to prepare it for making more intelligent uses of it later."
      ]
    },
    {
      "cell_type": "code",
      "execution_count": 613,
      "metadata": {},
      "outputs": [],
      "source": [
        "input_text = [\"once\", \"upon\", \"a\", \"time\", \",\", \"i ate\", \".\"]\n",
        "\n",
        "# TODO: write a line to delete the punctation using .remove()\n",
        "\n",
        "# TODO: write a line of code to add a food to the end of the list\n",
        "\n",
        "# TODO: print and output the final list"
      ]
    },
    {
      "cell_type": "markdown",
      "metadata": {},
      "source": [
        "# Part 4: Putting lines of code together"
      ]
    },
    {
      "cell_type": "code",
      "execution_count": 614,
      "metadata": {},
      "outputs": [],
      "source": [
        "def add(x, y):\n",
        "    return x + y"
      ]
    },
    {
      "cell_type": "code",
      "execution_count": 615,
      "metadata": {},
      "outputs": [
        {
          "data": {
            "text/plain": [
              "7"
            ]
          },
          "execution_count": 615,
          "metadata": {},
          "output_type": "execute_result"
        }
      ],
      "source": [
        "add(4, 3)"
      ]
    },
    {
      "cell_type": "code",
      "execution_count": 616,
      "metadata": {},
      "outputs": [
        {
          "data": {
            "text/plain": [
              "6"
            ]
          },
          "execution_count": 616,
          "metadata": {},
          "output_type": "execute_result"
        }
      ],
      "source": [
        "def multiply(x, y):\n",
        "    return x * y\n",
        "\n",
        "multiply(2, 3)"
      ]
    },
    {
      "cell_type": "code",
      "execution_count": 617,
      "metadata": {},
      "outputs": [],
      "source": [
        "def large_calculation(x, y):\n",
        "    x = x + 4\n",
        "    y = y + 9\n",
        "\n",
        "    z = x * 4\n",
        "\n",
        "    return x + y + z"
      ]
    },
    {
      "cell_type": "markdown",
      "metadata": {},
      "source": [
        "# Part 5: loops and program flow"
      ]
    },
    {
      "cell_type": "code",
      "execution_count": 618,
      "metadata": {},
      "outputs": [
        {
          "name": "stdout",
          "output_type": "stream",
          "text": [
            "hi\n",
            "the\n",
            "market\n",
            "food\n",
            "sports\n",
            "1\n",
            "2\n",
            "3\n",
            "4\n",
            "5\n",
            "6\n"
          ]
        }
      ],
      "source": [
        "for word in words:\n",
        "    print(word)\n",
        "\n",
        "for number in [1, 2, 3, 4, 5, 6]:\n",
        "    print(number)"
      ]
    },
    {
      "cell_type": "code",
      "execution_count": 619,
      "metadata": {},
      "outputs": [
        {
          "name": "stdout",
          "output_type": "stream",
          "text": [
            "1\n",
            "2\n",
            "3\n",
            "4\n",
            "5\n",
            "6\n"
          ]
        }
      ],
      "source": [
        "for index in range(1, 7):\n",
        "    print(index)"
      ]
    },
    {
      "cell_type": "code",
      "execution_count": 620,
      "metadata": {},
      "outputs": [
        {
          "ename": "IndentationError",
          "evalue": "expected an indented block (3957589289.py, line 3)",
          "output_type": "error",
          "traceback": [
            "\u001b[0;36m  Cell \u001b[0;32mIn[620], line 3\u001b[0;36m\u001b[0m\n\u001b[0;31m    for word in list_of_words:\u001b[0m\n\u001b[0m                              ^\u001b[0m\n\u001b[0;31mIndentationError\u001b[0m\u001b[0;31m:\u001b[0m expected an indented block\n"
          ]
        }
      ],
      "source": [
        "def remove_puncuation(list_of_words):\n",
        "    new_list = []\n",
        "    for word in list_of_words:\n"
      ]
    }
  ],
  "metadata": {
    "kernelspec": {
      "display_name": "Python 3",
      "language": "python",
      "name": "python3"
    },
    "language_info": {
      "codemirror_mode": {
        "name": "ipython",
        "version": 3
      },
      "file_extension": ".py",
      "mimetype": "text/x-python",
      "name": "python",
      "nbconvert_exporter": "python",
      "pygments_lexer": "ipython3",
      "version": "3.9.16"
    }
  },
  "nbformat": 4,
  "nbformat_minor": 2
}

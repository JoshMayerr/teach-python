{
  "cells": [
    {
      "cell_type": "markdown",
      "metadata": {},
      "source": [
        "# Learn Python in One Sitting\n",
        "\n",
        "### In this tutorial i'll teach you how to code in Python as we build an AI clone that talks like you, from scratch. uh, that sounds super difficult. dont worry it wont be! we are going to use some beginner techniques and you'll understand it all i promise. \n",
        "\n",
        "This tutorial is meant for people who have never coded before, but are interested in what it even means to \"code\" and what the fuck \"Python\" does. 🐍\n",
        "\n",
        "*By Josh Mayer*"
      ]
    },
    {
      "cell_type": "markdown",
      "metadata": {},
      "source": [
        "## A preview of the future\n",
        "\n",
        "This is the code you are going to write by then end of this adventure. dont get overwhelmed let's just get to it!"
      ]
    },
    {
      "cell_type": "code",
      "execution_count": 72,
      "metadata": {},
      "outputs": [
        {
          "name": "stdout",
          "output_type": "stream",
          "text": [
            "put in myu example\n"
          ]
        }
      ],
      "source": [
        "import random\n",
        "\n",
        "def create_dictionary(corpus):\n",
        "    words = corpus.split()\n",
        "    word_dict = {}\n",
        "    for i in range(len(words)-1):\n",
        "        if words[i] in word_dict:\n",
        "            word_dict[words[i]].append(words[i+1])\n",
        "        else:\n",
        "            word_dict[words[i]] = [words[i+1]]\n",
        "    return word_dict\n",
        "\n",
        "def generate_text(word_dict, length=10):\n",
        "    current_word = random.choice(list(word_dict.keys()))\n",
        "    text = current_word\n",
        "    for _ in range(length-1):\n",
        "        if current_word in word_dict:\n",
        "            next_word = random.choice(word_dict[current_word])\n",
        "            text += \" \" + next_word\n",
        "            current_word = next_word\n",
        "        else:\n",
        "            break\n",
        "    return text\n",
        "\n",
        "corpus = \"put in myu example \"\n",
        "word_dict = create_dictionary(corpus)\n",
        "generated_text = generate_text(word_dict, length=20)\n",
        "print(generated_text)"
      ]
    },
    {
      "cell_type": "markdown",
      "metadata": {},
      "source": [
        "## Outline\n",
        "\n",
        "1. let's get busy (introduction)\n",
        "2. the atomic units of code \n",
        "3. functions\n",
        "4. strings\n",
        "5. lists\n",
        "6. loops\n",
        "7. dictonaries\n",
        "8. classes"
      ]
    },
    {
      "cell_type": "markdown",
      "metadata": {},
      "source": [
        "## How to run code on this website\n",
        "\n",
        "There should be a play button on the top left of every code block. Not this one cuz its text. Once you click that the code will \"run\", meaning the computer will go down line-by-line and execute."
      ]
    },
    {
      "cell_type": "markdown",
      "metadata": {},
      "source": [
        "# Part 1: let's get busy\n",
        "\n",
        "### so what does it mean to code?? Coding is simply writing commands to a computer so that it can do things for you. \n",
        "\n",
        "it's really just the same as when you use a calculator and punch in calculations like 39 = 3x + 3. it solves for x for you aka doing something after you gave it a line of code.  \n",
        "\n",
        "but you couldn't just type random gibberish into a calculator. cooler ones the ti-84 had more functionality but the point is the calculator would get mad if the input text didn't follow a certain format.\n",
        "\n",
        "that's exactly what code is! code is like an agreement between you and the computer to speak in a certain way that you both can understand (aka a langauge).\n",
        "\n",
        "this is why you'll see certain specific \"syntax\" that you just sorta have to follow when typing lines of code, or else the poor computer just wont understand you and get frustrated."
      ]
    },
    {
      "cell_type": "markdown",
      "metadata": {},
      "source": [
        "### Your first line of code!!\n",
        "\n",
        "This is exciting, click the play button next to the code block following this text block and see what happens"
      ]
    },
    {
      "cell_type": "code",
      "execution_count": 73,
      "metadata": {},
      "outputs": [
        {
          "data": {
            "text/plain": [
              "2"
            ]
          },
          "execution_count": 73,
          "metadata": {},
          "output_type": "execute_result"
        }
      ],
      "source": [
        "1 + 1"
      ]
    },
    {
      "cell_type": "markdown",
      "metadata": {},
      "source": [
        "nicely done, pretty simple but we have to start with the building blocks before anything else.\n",
        "\n",
        "as you can see, sorta like a calculator. you put in input text, and the computer does something for you."
      ]
    },
    {
      "cell_type": "code",
      "execution_count": 74,
      "metadata": {},
      "outputs": [
        {
          "data": {
            "text/plain": [
              "6454.0"
            ]
          },
          "execution_count": 74,
          "metadata": {},
          "output_type": "execute_result"
        }
      ],
      "source": [
        "922 * 7 + 201.4 / 21 ** 4 // 9"
      ]
    },
    {
      "cell_type": "markdown",
      "metadata": {},
      "source": [
        "slightly more complicated with a bit more python-specific \"syntax\" thrown in the mix. the hardest part about learning to code is avoiding getting lost in syntax and new-looking text inputs. dont try and memorize anything yet, its about getting a feel for how writing code works and how it is executed. there is no reason to completely understand everything.\n",
        "\n",
        "and there you go, welcome to the world of coding. you just did it twice. now lets dive deeper."
      ]
    },
    {
      "cell_type": "markdown",
      "metadata": {},
      "source": [
        "# Part 2: the atomic units of code\n",
        "\n",
        "in this section i'll introduce the idea of variables, which is really the same idea of variables you learned in math. naming a value to be saved and used later, aka a variable."
      ]
    },
    {
      "cell_type": "markdown",
      "metadata": {},
      "source": [
        "this is what it looks like to create a variable in python"
      ]
    },
    {
      "cell_type": "code",
      "execution_count": 75,
      "metadata": {},
      "outputs": [],
      "source": [
        "x = 69"
      ]
    },
    {
      "cell_type": "markdown",
      "metadata": {},
      "source": [
        "you can save pretty much anything into a variable."
      ]
    },
    {
      "cell_type": "code",
      "execution_count": 76,
      "metadata": {},
      "outputs": [
        {
          "data": {
            "text/plain": [
              "25816.0"
            ]
          },
          "execution_count": 76,
          "metadata": {},
          "output_type": "execute_result"
        }
      ],
      "source": [
        "joshs_bank_account = 922 * 28 + 201.4 / 21 ** 4 // 123\n",
        "\n",
        "joshs_bank_account"
      ]
    },
    {
      "cell_type": "markdown",
      "metadata": {},
      "source": [
        "just like in math, you can use variables inside of equations. guess what y equals, then run the code."
      ]
    },
    {
      "cell_type": "code",
      "execution_count": 77,
      "metadata": {},
      "outputs": [
        {
          "data": {
            "text/plain": [
              "276"
            ]
          },
          "execution_count": 77,
          "metadata": {},
          "output_type": "execute_result"
        }
      ],
      "source": [
        "y = x + x + (2 * x)\n",
        "\n",
        "y"
      ]
    },
    {
      "cell_type": "markdown",
      "metadata": {},
      "source": [
        "time to write code! make a new variable z, that equals 10. make sure to click run when your done."
      ]
    },
    {
      "cell_type": "code",
      "execution_count": 78,
      "metadata": {},
      "outputs": [],
      "source": [
        "# TODO, then click the run button\n",
        "z = 10"
      ]
    },
    {
      "cell_type": "markdown",
      "metadata": {},
      "source": [
        "now add z to y and run the code. you should get 13!"
      ]
    },
    {
      "cell_type": "code",
      "execution_count": 79,
      "metadata": {},
      "outputs": [
        {
          "data": {
            "text/plain": [
              "286"
            ]
          },
          "execution_count": 79,
          "metadata": {},
          "output_type": "execute_result"
        }
      ],
      "source": [
        "# TODO\n",
        "z + y"
      ]
    },
    {
      "cell_type": "markdown",
      "metadata": {},
      "source": [
        "now as you might guess, code is not only one line! you can write multiple lines of code in one block together. when you click run, the computer will execute the lines one by one going from top to bottom.\n",
        "\n",
        "take a look at what happens here"
      ]
    },
    {
      "cell_type": "code",
      "execution_count": 80,
      "metadata": {},
      "outputs": [
        {
          "data": {
            "text/plain": [
              "12"
            ]
          },
          "execution_count": 80,
          "metadata": {},
          "output_type": "execute_result"
        }
      ],
      "source": [
        "x = 1\n",
        "y = 1\n",
        "\n",
        "x = x + 2 # TODO\n",
        "y = y + 2 # TODO\n",
        "\n",
        "z = x * 2\n",
        "\n",
        "x + y + z"
      ]
    },
    {
      "cell_type": "markdown",
      "metadata": {},
      "source": [
        "now change the code above to output 12. hint: edit the 4th and 5th lines."
      ]
    },
    {
      "cell_type": "markdown",
      "metadata": {},
      "source": [
        "## There are more than just numbers\n",
        "\n",
        "so up until now, we've only cared about numbers. but our final project has to do with text we need to be able to work with words. introducing, \"strings\". \n",
        "\n",
        "a string is just the name for when you want to work with words rather than numbers\n",
        "\n",
        "you can store strings into variables in the exact same way as numbers"
      ]
    },
    {
      "cell_type": "code",
      "execution_count": 81,
      "metadata": {},
      "outputs": [],
      "source": [
        "x = 7 # this is a number\n",
        "\n",
        "sport = \"basketball\" # this is a string, its a word wrapped in quotes\n",
        "\n",
        "breakfast = \"i ate 7 pancakes\" # this is a string, notice it contains a number but its within the quotes so its still all a string"
      ]
    },
    {
      "cell_type": "markdown",
      "metadata": {},
      "source": [
        "### Manipulating strings\n",
        "\n",
        "as we build our AI clone, we are going to have to work with strings. this often involves changing them somehow. there are a ton of ways to do it, so the point here is to see what's out there not try and memorize everything"
      ]
    },
    {
      "cell_type": "code",
      "execution_count": 82,
      "metadata": {},
      "outputs": [
        {
          "data": {
            "text/plain": [
              "'Josh Mayer'"
            ]
          },
          "execution_count": 82,
          "metadata": {},
          "output_type": "execute_result"
        }
      ],
      "source": [
        "full_name = \"Josh \" + \"Mayer\"\n",
        "\n",
        "full_name"
      ]
    },
    {
      "cell_type": "code",
      "execution_count": 83,
      "metadata": {},
      "outputs": [],
      "source": [
        "# write code to output your name\n",
        "# TODO"
      ]
    },
    {
      "cell_type": "markdown",
      "metadata": {},
      "source": [
        "#### Slicing strings\n",
        "\n",
        "every string in python has an underlying order to the letters. this is something python just remembers for you. the first letter is a 0 going all the way up with numbers to the last letter.\n",
        "\n",
        "\"b a s k e t b a l l\"  <-- the string\n",
        " 0 1 2 3 4 5 6 7 8 9   <-- its index values"
      ]
    },
    {
      "cell_type": "markdown",
      "metadata": {},
      "source": [
        "so to access a specific letter within a string, you can ask python using that letter's index"
      ]
    },
    {
      "cell_type": "code",
      "execution_count": 110,
      "metadata": {},
      "outputs": [
        {
          "data": {
            "text/plain": [
              "'a'"
            ]
          },
          "execution_count": 110,
          "metadata": {},
          "output_type": "execute_result"
        }
      ],
      "source": [
        "sport = \"basketball\"\n",
        "sport[7]"
      ]
    },
    {
      "cell_type": "code",
      "execution_count": 85,
      "metadata": {},
      "outputs": [],
      "source": [
        "sport = \"basketball\"\n",
        "\n",
        "# write a line to ask for the 3rd letter in sport:\n",
        "# TODO"
      ]
    },
    {
      "cell_type": "markdown",
      "metadata": {},
      "source": [
        "what if i want to get several letters at the same time?\n",
        "\n",
        "you slice.\n",
        "\n",
        "string_name[start : end]\n",
        "\n",
        "this is a similar concept as grabbing one letter, except you grab all the letters from the start all the way up to the end (exluding the last letter)"
      ]
    },
    {
      "cell_type": "code",
      "execution_count": 112,
      "metadata": {},
      "outputs": [
        {
          "data": {
            "text/plain": [
              "'ketba'"
            ]
          },
          "execution_count": 112,
          "metadata": {},
          "output_type": "execute_result"
        }
      ],
      "source": [
        "sport[0:4]\n",
        "sport[3:8]"
      ]
    },
    {
      "cell_type": "code",
      "execution_count": 114,
      "metadata": {},
      "outputs": [
        {
          "data": {
            "text/plain": [
              "'y'"
            ]
          },
          "execution_count": 114,
          "metadata": {},
          "output_type": "execute_result"
        }
      ],
      "source": [
        "sport = \"basketball is my favorite sport\"\n",
        "\n",
        "# write a line to output 'bal':\n",
        "# TODO\n",
        "sport[15]"
      ]
    },
    {
      "cell_type": "markdown",
      "metadata": {},
      "source": [
        "#### Bonus: Booleans\n",
        "\n",
        "While not important for our final project really, they are super simple and important to know.\n",
        "\n",
        "Booleans are another type of variable in python, just like string and numbers. But they are much more simple. They can only be true or false.\n",
        "\n",
        "This is useful for variables like is_darkmode_enabled because you only care if it is true/false. this means that True and False are both special words in python"
      ]
    },
    {
      "cell_type": "code",
      "execution_count": 116,
      "metadata": {},
      "outputs": [
        {
          "data": {
            "text/plain": [
              "False"
            ]
          },
          "execution_count": 116,
          "metadata": {},
          "output_type": "execute_result"
        }
      ],
      "source": [
        "is_darkmode_enabled = False # make sure it is captizalized!\n",
        "is_josh_cool = False # this is NOT a boolean, its a string\n",
        "\n",
        "is_darkmode_enabled"
      ]
    },
    {
      "cell_type": "markdown",
      "metadata": {},
      "source": [
        "# Part 3: many variables together"
      ]
    },
    {
      "cell_type": "code",
      "execution_count": 98,
      "metadata": {},
      "outputs": [],
      "source": [
        "names = [\"josh\", \"mayer\", \"nick\", \"kol\"]"
      ]
    },
    {
      "cell_type": "code",
      "execution_count": 99,
      "metadata": {},
      "outputs": [
        {
          "data": {
            "text/plain": [
              "'josh'"
            ]
          },
          "execution_count": 99,
          "metadata": {},
          "output_type": "execute_result"
        }
      ],
      "source": [
        "names[0]"
      ]
    },
    {
      "cell_type": "code",
      "execution_count": 100,
      "metadata": {},
      "outputs": [
        {
          "data": {
            "text/plain": [
              "['mayer', 'nick']"
            ]
          },
          "execution_count": 100,
          "metadata": {},
          "output_type": "execute_result"
        }
      ],
      "source": [
        "names[1:3]"
      ]
    },
    {
      "cell_type": "code",
      "execution_count": 101,
      "metadata": {},
      "outputs": [
        {
          "name": "stdout",
          "output_type": "stream",
          "text": [
            "['mayer', 'nick', 'kol']\n",
            "['ben', 'thing1']\n"
          ]
        }
      ],
      "source": [
        "names = [\"josh\", \"mayer\", \"nick\", \"kol\"]\n",
        "\n",
        "names.remove(\"josh\")\n",
        "print(names)\n",
        "\n",
        "newlist = []\n",
        "newlist.append(\"ben\")\n",
        "newlist.append(\"thing1\")\n",
        "print(newlist)"
      ]
    },
    {
      "cell_type": "code",
      "execution_count": 102,
      "metadata": {},
      "outputs": [],
      "source": [
        "import random\n",
        "\n",
        "def say_word(list_of_words):\n",
        "    return random.choice(list_of_words)"
      ]
    },
    {
      "cell_type": "code",
      "execution_count": 103,
      "metadata": {},
      "outputs": [
        {
          "data": {
            "text/plain": [
              "'the'"
            ]
          },
          "execution_count": 103,
          "metadata": {},
          "output_type": "execute_result"
        }
      ],
      "source": [
        "words = [\"hi\", \"the\", \"market\", \"food\", \"sports\"]\n",
        "\n",
        "say_word(words)"
      ]
    },
    {
      "cell_type": "markdown",
      "metadata": {},
      "source": [
        "# Part 3: Putting lines of code together"
      ]
    },
    {
      "cell_type": "code",
      "execution_count": null,
      "metadata": {},
      "outputs": [],
      "source": [
        "def add(x, y):\n",
        "    return x + y"
      ]
    },
    {
      "cell_type": "code",
      "execution_count": null,
      "metadata": {},
      "outputs": [
        {
          "data": {
            "text/plain": [
              "7"
            ]
          },
          "metadata": {},
          "output_type": "display_data"
        }
      ],
      "source": [
        "add(4, 3)"
      ]
    },
    {
      "cell_type": "code",
      "execution_count": null,
      "metadata": {},
      "outputs": [
        {
          "data": {
            "text/plain": [
              "6"
            ]
          },
          "metadata": {},
          "output_type": "display_data"
        }
      ],
      "source": [
        "def multiply(x, y):\n",
        "    return x * y\n",
        "\n",
        "multiply(2, 3)"
      ]
    },
    {
      "cell_type": "code",
      "execution_count": null,
      "metadata": {},
      "outputs": [],
      "source": [
        "def large_calculation(x, y):\n",
        "    x = x + 4\n",
        "    y = y + 9\n",
        "\n",
        "    z = x * 4\n",
        "\n",
        "    return x + y + z"
      ]
    },
    {
      "cell_type": "markdown",
      "metadata": {},
      "source": [
        "# Part 5: loops and program flow"
      ]
    },
    {
      "cell_type": "code",
      "execution_count": 104,
      "metadata": {},
      "outputs": [
        {
          "name": "stdout",
          "output_type": "stream",
          "text": [
            "hi\n",
            "the\n",
            "market\n",
            "food\n",
            "sports\n",
            "1\n",
            "2\n",
            "3\n",
            "4\n",
            "5\n",
            "6\n"
          ]
        }
      ],
      "source": [
        "for word in words:\n",
        "    print(word)\n",
        "\n",
        "for number in [1, 2, 3, 4, 5, 6]:\n",
        "    print(number)"
      ]
    },
    {
      "cell_type": "code",
      "execution_count": 105,
      "metadata": {},
      "outputs": [
        {
          "name": "stdout",
          "output_type": "stream",
          "text": [
            "1\n",
            "2\n",
            "3\n",
            "4\n",
            "5\n",
            "6\n"
          ]
        }
      ],
      "source": [
        "for index in range(1, 7):\n",
        "    print(index)"
      ]
    },
    {
      "cell_type": "code",
      "execution_count": 106,
      "metadata": {},
      "outputs": [
        {
          "ename": "IndentationError",
          "evalue": "expected an indented block (3957589289.py, line 3)",
          "output_type": "error",
          "traceback": [
            "\u001b[0;36m  Cell \u001b[0;32mIn[106], line 3\u001b[0;36m\u001b[0m\n\u001b[0;31m    for word in list_of_words:\u001b[0m\n\u001b[0m                              ^\u001b[0m\n\u001b[0;31mIndentationError\u001b[0m\u001b[0;31m:\u001b[0m expected an indented block\n"
          ]
        }
      ],
      "source": [
        "def remove_puncuation(list_of_words):\n",
        "    new_list = []\n",
        "    for word in list_of_words:\n"
      ]
    }
  ],
  "metadata": {
    "kernelspec": {
      "display_name": "Python 3",
      "language": "python",
      "name": "python3"
    },
    "language_info": {
      "codemirror_mode": {
        "name": "ipython",
        "version": 3
      },
      "file_extension": ".py",
      "mimetype": "text/x-python",
      "name": "python",
      "nbconvert_exporter": "python",
      "pygments_lexer": "ipython3",
      "version": "3.9.16"
    }
  },
  "nbformat": 4,
  "nbformat_minor": 2
}
